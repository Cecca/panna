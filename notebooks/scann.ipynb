{
 "cells": [
  {
   "cell_type": "code",
   "execution_count": 2,
   "id": "4d910dab-5c86-4230-8573-31a1d444232f",
   "metadata": {
    "tags": []
   },
   "outputs": [],
   "source": [
    "import scann\n",
    "import h5py\n",
    "import numpy as np\n",
    "import time\n",
    "import puffinn"
   ]
  },
  {
   "cell_type": "code",
   "execution_count": 3,
   "id": "a11e57f5-73a1-4aa1-b741-4f19eb0dec1e",
   "metadata": {
    "tags": []
   },
   "outputs": [],
   "source": [
    "with h5py.File('lsh/.glove-25-angular.hdf5') as hf:\n",
    "    dataset = hf['/train'][:]\n",
    "    dataset = dataset / np.linalg.norm(dataset, axis=1)[:, np.newaxis]\n",
    "    queries  = hf['/test'][:]\n",
    "    #queries = queries / np.linalg.norm(queries, axis=1)[:, np.newaxis]\n",
    "    ground = hf['/neighbors'][:, :10]"
   ]
  },
  {
   "cell_type": "code",
   "execution_count": 4,
   "id": "c5405ed8-1570-4fe1-a870-186a1a53eadc",
   "metadata": {
    "tags": []
   },
   "outputs": [],
   "source": [
    "def compute_recall(neighbors, true_neighbors):\n",
    "    total = 0\n",
    "    for gt_row, row in zip(true_neighbors, neighbors):\n",
    "        total += np.intersect1d(gt_row, row).shape[0]\n",
    "    return total / true_neighbors.size\n"
   ]
  },
  {
   "cell_type": "code",
   "execution_count": 5,
   "id": "f88b748e-eac1-4f75-94f1-b3501c43236d",
   "metadata": {
    "tags": []
   },
   "outputs": [
    {
     "name": "stderr",
     "output_type": "stream",
     "text": [
      "2023-05-04 15:36:38.073539: I scann/partitioning/partitioner_factory_base.cc:59] Size of sampled dataset for training partition: 249797\n",
      "2023-05-04 15:36:39.488436: I ./scann/partitioning/kmeans_tree_partitioner_utils.h:88] PartitionerFactory ran in 1.414834134s.\n"
     ]
    }
   ],
   "source": [
    "searcher = scann.scann_ops_pybind.builder(dataset, 10, \"dot_product\").tree(\n",
    "    num_leaves=2000, num_leaves_to_search=100, training_sample_size=250000).score_ah(\n",
    "    2, anisotropic_quantization_threshold=0.2).reorder(100).build()"
   ]
  },
  {
   "cell_type": "code",
   "execution_count": 6,
   "id": "f8c8bf50-bf10-4b07-ac48-cbd015ce3035",
   "metadata": {
    "tags": []
   },
   "outputs": [
    {
     "name": "stdout",
     "output_type": "stream",
     "text": [
      "Recall: 0.80583\n",
      "Time: 0.6993043422698975\n",
      "Time per query: 0.06993043422698975 ms\n"
     ]
    }
   ],
   "source": [
    "start = time.time()\n",
    "neighbors, distances = searcher.search_batched(queries, leaves_to_search=100)\n",
    "end = time.time()\n",
    "\n",
    "print(\"Recall:\", compute_recall(neighbors, ground))\n",
    "print(\"Time:\", end - start)\n",
    "print(\"Time per query:\", 1000*((end - start) / queries.shape[0]), \"ms\")"
   ]
  },
  {
   "cell_type": "code",
   "execution_count": 10,
   "id": "7a00e8ac-bca5-49db-98db-3ed8cad0f76d",
   "metadata": {
    "tags": []
   },
   "outputs": [],
   "source": [
    "query_idx = 1"
   ]
  },
  {
   "cell_type": "code",
   "execution_count": 11,
   "id": "0329f9bc-6074-447a-b7c6-9fc61e1f84ee",
   "metadata": {
    "tags": []
   },
   "outputs": [
    {
     "name": "stdout",
     "output_type": "stream",
     "text": [
      "328 µs ± 6 µs per loop (mean ± std. dev. of 7 runs, 1,000 loops each)\n"
     ]
    }
   ],
   "source": [
    "%timeit searcher.search(queries[query_idx,:], leaves_to_search=1000)"
   ]
  },
  {
   "cell_type": "code",
   "execution_count": 14,
   "id": "36169fe5-4256-4630-9eda-6ad32d31702b",
   "metadata": {
    "tags": []
   },
   "outputs": [
    {
     "ename": "KeyboardInterrupt",
     "evalue": "",
     "output_type": "error",
     "traceback": [
      "\u001b[0;31m---------------------------------------------------------------------------\u001b[0m",
      "\u001b[0;31mKeyboardInterrupt\u001b[0m                         Traceback (most recent call last)",
      "Cell \u001b[0;32mIn[14], line 5\u001b[0m\n\u001b[1;32m      3\u001b[0m \u001b[38;5;28;01mwhile\u001b[39;00m r \u001b[38;5;241m<\u001b[39m \u001b[38;5;241m0.5\u001b[39m:\n\u001b[1;32m      4\u001b[0m     leaves_to_search \u001b[38;5;241m+\u001b[39m\u001b[38;5;241m=\u001b[39m \u001b[38;5;241m100\u001b[39m\n\u001b[0;32m----> 5\u001b[0m     r \u001b[38;5;241m=\u001b[39m compute_recall(\u001b[43msearcher\u001b[49m\u001b[38;5;241;43m.\u001b[39;49m\u001b[43msearch\u001b[49m\u001b[43m(\u001b[49m\u001b[43mqueries\u001b[49m\u001b[43m[\u001b[49m\u001b[43mquery_idx\u001b[49m\u001b[43m,\u001b[49m\u001b[43m:\u001b[49m\u001b[43m]\u001b[49m\u001b[43m,\u001b[49m\u001b[43m \u001b[49m\u001b[43mleaves_to_search\u001b[49m\u001b[38;5;241;43m=\u001b[39;49m\u001b[43mleaves_to_search\u001b[49m\u001b[43m)\u001b[49m[\u001b[38;5;241m0\u001b[39m], ground[query_idx,:])\n\u001b[1;32m      6\u001b[0m r, leaves_to_search\n",
      "File \u001b[0;32m~/opt/mambaforge/lib/python3.10/site-packages/scann/scann_ops/py/scann_ops_pybind.py:32\u001b[0m, in \u001b[0;36mScannSearcher.search\u001b[0;34m(self, q, final_num_neighbors, pre_reorder_num_neighbors, leaves_to_search)\u001b[0m\n\u001b[1;32m     30\u001b[0m pre_nn \u001b[38;5;241m=\u001b[39m \u001b[38;5;241m-\u001b[39m\u001b[38;5;241m1\u001b[39m \u001b[38;5;28;01mif\u001b[39;00m pre_reorder_num_neighbors \u001b[38;5;129;01mis\u001b[39;00m \u001b[38;5;28;01mNone\u001b[39;00m \u001b[38;5;28;01melse\u001b[39;00m pre_reorder_num_neighbors\n\u001b[1;32m     31\u001b[0m leaves \u001b[38;5;241m=\u001b[39m \u001b[38;5;241m-\u001b[39m\u001b[38;5;241m1\u001b[39m \u001b[38;5;28;01mif\u001b[39;00m leaves_to_search \u001b[38;5;129;01mis\u001b[39;00m \u001b[38;5;28;01mNone\u001b[39;00m \u001b[38;5;28;01melse\u001b[39;00m leaves_to_search\n\u001b[0;32m---> 32\u001b[0m \u001b[38;5;28;01mreturn\u001b[39;00m \u001b[38;5;28;43mself\u001b[39;49m\u001b[38;5;241;43m.\u001b[39;49m\u001b[43msearcher\u001b[49m\u001b[38;5;241;43m.\u001b[39;49m\u001b[43msearch\u001b[49m\u001b[43m(\u001b[49m\u001b[43mq\u001b[49m\u001b[43m,\u001b[49m\u001b[43m \u001b[49m\u001b[43mfinal_nn\u001b[49m\u001b[43m,\u001b[49m\u001b[43m \u001b[49m\u001b[43mpre_nn\u001b[49m\u001b[43m,\u001b[49m\u001b[43m \u001b[49m\u001b[43mleaves\u001b[49m\u001b[43m)\u001b[49m\n",
      "\u001b[0;31mKeyboardInterrupt\u001b[0m: "
     ]
    }
   ],
   "source": [
    "r = 0\n",
    "leaves_to_search = 100\n",
    "while r < 0.5:\n",
    "    leaves_to_search += 100\n",
    "    r = compute_recall(searcher.search(queries[query_idx,:], leaves_to_search=leaves_to_search)[0], ground[query_idx,:])\n",
    "r, leaves_to_search"
   ]
  },
  {
   "cell_type": "code",
   "execution_count": 40,
   "id": "8a861480-1e3d-4bd4-ae10-5290fef2c1b1",
   "metadata": {
    "tags": []
   },
   "outputs": [],
   "source": [
    "brute = scann.scann_ops_pybind.builder(dataset, 10, \"dot_product\").score_brute_force().build()"
   ]
  },
  {
   "cell_type": "code",
   "execution_count": 41,
   "id": "80ae482d-20f7-4169-98ab-8b472aa51461",
   "metadata": {
    "tags": []
   },
   "outputs": [
    {
     "name": "stdout",
     "output_type": "stream",
     "text": [
      "Recall: 1.0\n",
      "Time: 4.924302577972412\n"
     ]
    }
   ],
   "source": [
    "start = time.time()\n",
    "neighbors, distances = brute.search_batched(queries)\n",
    "end = time.time()\n",
    "\n",
    "print(\"Recall:\", compute_recall(neighbors, ground))\n",
    "print(\"Time:\", end - start)"
   ]
  },
  {
   "cell_type": "markdown",
   "id": "a0b15bac-1a9e-4ba9-b5f4-921d9c5a584e",
   "metadata": {},
   "source": [
    "## PUFFINN"
   ]
  },
  {
   "cell_type": "code",
   "execution_count": 18,
   "id": "58589d05-dbc0-43db-bfd2-5e6221b6aa95",
   "metadata": {
    "tags": []
   },
   "outputs": [
    {
     "name": "stderr",
     "output_type": "stream",
     "text": [
      "Starting index_build\n",
      "Building sketches\n",
      "Number of tables: 380\n",
      "Done index_build in 139046 ms\n"
     ]
    }
   ],
   "source": [
    "# Construct the index using the cosine similarity measure,\n",
    "# the default hash functions and 4 GB of memory.\n",
    "index = puffinn.Index('angular', dataset.shape[1], 4*1024**3)\n",
    "for v in dataset:\n",
    "    index.insert(list(v))\n",
    "index.rebuild()"
   ]
  },
  {
   "cell_type": "code",
   "execution_count": 25,
   "id": "6a6cf8c3-b02a-412e-99c8-a139a1110dbe",
   "metadata": {
    "tags": []
   },
   "outputs": [
    {
     "name": "stdout",
     "output_type": "stream",
     "text": [
      "Recall: 0.5609600000000018\n",
      "Time: 18.556936502456665\n"
     ]
    }
   ],
   "source": [
    "start = time.time()\n",
    "r = 0 \n",
    "for i, q in enumerate(queries):\n",
    "    ans = index.search(list(q), 10, 0.8)\n",
    "    r += compute_recall(ans, ground[i])\n",
    "end = time.time()\n",
    "\n",
    "print(\"Recall:\", r / queries.shape[0])\n",
    "print(\"Time:\", end - start)"
   ]
  },
  {
   "cell_type": "code",
   "execution_count": null,
   "id": "df10cead-6f35-4d06-999d-fa5ff1fd14a1",
   "metadata": {},
   "outputs": [],
   "source": []
  },
  {
   "cell_type": "code",
   "execution_count": null,
   "id": "d96046a1-2597-4c8c-9582-d71da0a0a8f3",
   "metadata": {},
   "outputs": [],
   "source": []
  }
 ],
 "metadata": {
  "kernelspec": {
   "display_name": "Python 3 (ipykernel)",
   "language": "python",
   "name": "python3"
  },
  "language_info": {
   "codemirror_mode": {
    "name": "ipython",
    "version": 3
   },
   "file_extension": ".py",
   "mimetype": "text/x-python",
   "name": "python",
   "nbconvert_exporter": "python",
   "pygments_lexer": "ipython3",
   "version": "3.10.10"
  }
 },
 "nbformat": 4,
 "nbformat_minor": 5
}
